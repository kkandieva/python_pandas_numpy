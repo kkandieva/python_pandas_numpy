{
 "cells": [
  {
   "cell_type": "markdown",
   "metadata": {},
   "source": [
    "# Cleaning Data with Python \n",
    "\n",
    "## Common data problems \n",
    "\n",
    "|Datatype|Example|Python data type\n",
    "|--|--|--|\n",
    "|Text data|First name, Last name| str\n",
    "|Integers|Subscribers, prodcuts sold|int\n",
    "|Decimals|Temperature, exchange rates|float\n",
    "|Binary|Is married,new customer, yes/no|boolean\n",
    "|Dates|Order dates|datetime\n",
    "|Categories|Marriage status, gender|category\n"
   ]
  },
  {
   "cell_type": "markdown",
   "metadata": {
    "ExecuteTime": {
     "end_time": "2022-03-10T19:00:36.365014Z",
     "start_time": "2022-03-10T19:00:36.333966Z"
    }
   },
   "source": [
    "### Ограничения связанные с типами данных\n",
    "\n",
    "В данном разделе будут рассматриваться проблемы касающиеся всех типов данных. Для анализа данных и последующих выводов на основе полученных результатов, крайне необходимо оценить тип обрабатываемых данных. Так как результаты статистического анализа численных и категориальных данных будет зависеть от типа данных выборки"
   ]
  },
  {
   "cell_type": "code",
   "execution_count": 30,
   "metadata": {
    "ExecuteTime": {
     "end_time": "2022-03-10T18:36:54.737584Z",
     "start_time": "2022-03-10T18:36:54.687386Z"
    }
   },
   "outputs": [
    {
     "name": "stdout",
     "output_type": "stream",
     "text": [
      "object\n"
     ]
    }
   ],
   "source": [
    "import pandas as pd\n",
    "import numpy as np\n",
    "\n",
    "price = pd.Series(['10$','15$'])\n",
    "\n",
    "# проверка типа данных необходима для понимания какие операции можно совершить\n",
    "print(price.dtype) # returns object\n",
    "\n",
    "\n",
    "# тип object - означает что элементы ряда это строки, \n",
    "# следовательно математических операций н-р суммирование выполнить не получится\n",
    "# как конвертировать  из строки в целое число\n",
    "\n",
    "# удаляем символ $\n",
    "price = price.str.strip('$')\n",
    "\n",
    "#конвертация из строкового типа данных в целочисленный\n",
    "price = price.astype('int')\n",
    "\n",
    "# проверка истиности \n",
    "assert price.dtype == 'int'"
   ]
  },
  {
   "cell_type": "markdown",
   "metadata": {},
   "source": [
    "```\n",
    "метод \n",
    "string.strip(character) - удаляет значения character в рассматриваемой строке\n",
    "\n",
    "DataFrame(Series).astype(dtype, copy=True, errors='raise')\n",
    "конвертирует тип данных объекта пандас в желаемый - dtype\n",
    "\n",
    "assert - проверка истинности выражения, если False, то возникнет AssertionError. В случае если True, не будет никакого предупреждения\n",
    "```"
   ]
  },
  {
   "cell_type": "code",
   "execution_count": 27,
   "metadata": {
    "ExecuteTime": {
     "end_time": "2022-03-10T18:36:18.353437Z",
     "start_time": "2022-03-10T18:36:18.318499Z"
    }
   },
   "outputs": [
    {
     "name": "stdout",
     "output_type": "stream",
     "text": [
      "count    5.00000\n",
      "mean     2.20000\n",
      "std      0.83666\n",
      "min      1.00000\n",
      "25%      2.00000\n",
      "50%      2.00000\n",
      "75%      3.00000\n",
      "max      3.00000\n",
      "dtype: float64\n"
     ]
    },
    {
     "data": {
      "text/plain": [
       "count     5\n",
       "unique    3\n",
       "top       2\n",
       "freq      2\n",
       "dtype: int64"
      ]
     },
     "execution_count": 27,
     "metadata": {},
     "output_type": "execute_result"
    }
   ],
   "source": [
    "# 1 - married, 2 - divorced, 3-single\n",
    "marriage_status = pd.Series([1, 2,  3, 2 ,3])\n",
    "print(marriage_status.describe())\n",
    "\n",
    "# Рассматриваемые данные являются категорийные, \n",
    "# поэтому при определении статистических параметров неправильно использовать \n",
    "# их как числа\n",
    "\n",
    "marriage_status = marriage_status.astype('category')\n",
    "assert marriage_status.dtype == 'category'\n",
    "marriage_status.describe()"
   ]
  },
  {
   "cell_type": "markdown",
   "metadata": {},
   "source": [
    "### Ограничения связанные с данными превышающими диапазон \n",
    "\n",
    "Способы решения:\n",
    "- исключение данных находящиеся вне диапазон. При использовании данного методы, стоит учитывать кол-во значений не находящиеся в диапазоне интервала, тк исключения большого числа можно повлиять на дальнейшую статистику.\n",
    "- установить минимум и максимум\n",
    "- определить данные вне диапазон как пропущенные или условные\n",
    "- определить пользовательские данные на основе бизнес предположений\n"
   ]
  },
  {
   "cell_type": "code",
   "execution_count": 53,
   "metadata": {
    "ExecuteTime": {
     "end_time": "2022-03-10T19:29:07.338475Z",
     "start_time": "2022-03-10T19:29:07.325341Z"
    }
   },
   "outputs": [
    {
     "name": "stdout",
     "output_type": "stream",
     "text": [
      "0    1\n",
      "1    2\n",
      "2    3\n",
      "3    2\n",
      "4    3\n",
      "dtype: int64\n"
     ]
    }
   ],
   "source": [
    "# drop values\n",
    "import pandas as pd\n",
    "\n",
    "#средний рейтинг меняется от 1 до 3 включительно\n",
    "avg_rating = pd.Series([1, 2,  3, 2 ,3, 6])\n",
    "\n",
    "# проверим если в данных значения больше 3\n",
    "avg_rating[avg_rating > 3]\n",
    "\n",
    "# 1 способ фильтрации данных\n",
    "avg_rating = avg_rating[avg_rating <= 3]\n",
    "\n",
    "# 2 способ pandas.Series.drop()\n",
    "avg_rating = avg_rating.drop(avg_rating[avg_rating > 3])\n",
    "assert  avg_rating.max() <= 3\n",
    "\n",
    "# 3 способ присвоить максимальное значение данным выходящим из диапазона чисел\n",
    "avg_rating.loc[avg_rating[avg_rating > 3].index] = 3 \n",
    "print(avg_rating)\n",
    "\n",
    "# для типа данных Dates\n",
    "df['dt'] = pd.to_datetime(df['date']).dt.date\n",
    "today = dt.date.today()\n",
    "df.loc[df['dt'] > today, 'dt'] = today"
   ]
  },
  {
   "cell_type": "markdown",
   "metadata": {},
   "source": [
    "### Дупликаты"
   ]
  },
  {
   "cell_type": "markdown",
   "metadata": {},
   "source": [
    "```python\n",
    "df.duplicated(subset = None, keep ='first')\n",
    "```\n",
    "Данный метод позволяет анализировать только дупликатные значения. возвращает bool список, где True показывает на дупликатное значение.\n",
    "Параметры:\n",
    "subset - имя колонки или список имен колонок, по которым будет анализироваться и сравниваться дупликатные значения\n",
    "keep:\n",
    " - 'first' - рассмартривает первое значение как уникальное, остальные его дупликаты (возвращается бул.список дупликатов)\n",
    " - 'last' - рассматривает последнее значение как уникальное, а все остальные его дупликаты(возвращается бул.список дупликатов)\n",
    " - False - все повторяющиеся значения это дупликаты (возвращает бул.список, где True это дупликаты. Этот параметр используется если нужно получить список только дупликатных значений.\n"
   ]
  },
  {
   "cell_type": "markdown",
   "metadata": {},
   "source": [
    "```python\n",
    "df.drop_duplicates(subset=None, keep='first', inplace=False, ignore_index=False)\n",
    "```\n",
    "Данный метод возвращает датафрейм без дупликатных значений.\n",
    "Параметры:\n",
    " - subset - если None, то ищет дубликаты по всем колонкам\n",
    " - keep - также как и для df.duplicated()\n",
    " - inplace - удалить дупликаты в таблице или вернуть их копию\n",
    " - ignore_index - если True, то результирующая ось индексов будет пронумерована от 0 до n-1\n"
   ]
  },
  {
   "cell_type": "markdown",
   "metadata": {},
   "source": [
    "## Text and categorical data\n",
    "\n",
    "### Membership constraints\n",
    "В методах машиного обучения в качестве исходных данных используют категорийные, обычно имеющие числовые значение, которые преопределены к какой либо категории.\n",
    "\n",
    "> Anti joins - what is in A and not in B - множество А минус В (set(A).difference(set(B)))\n",
    "\n",
    "> Inner joins - what is in both A and B - множество А* В"
   ]
  },
  {
   "cell_type": "code",
   "execution_count": null,
   "metadata": {},
   "outputs": [],
   "source": [
    "# Print categories DataFrame\n",
    "print(categories.head())\n",
    "\n",
    "# Print unique values of survey columns in airlines\n",
    "print('Cleanliness: ', airlines['cleanliness'].unique(), \"\\n\")\n",
    "print('Safety: ', airlines['safety'].unique(), \"\\n\")\n",
    "print('Satisfaction: ', airlines['satisfaction'].unique(), \"\\n\")"
   ]
  },
  {
   "cell_type": "markdown",
   "metadata": {},
   "source": [
    "pandas.Series.unique() - Return unique values of Series object.The unique values returned as a NumPy array."
   ]
  },
  {
   "cell_type": "code",
   "execution_count": null,
   "metadata": {},
   "outputs": [],
   "source": [
    "# Find the cleanliness category in airlines not in categories\n",
    "cat_clean = set(airlines['cleanliness']).difference(categories['cleanliness'])\n",
    "\n",
    "# Find rows with that category -- cat_clean_rows = boolean \n",
    "#isin () method returns list of boolean values\n",
    "cat_clean_rows = airlines['cleanliness'].isin(cat_clean)\n",
    "\n",
    "# Print rows with inconsistent category\n",
    "print(airlines[cat_clean_rows])\n",
    "\n",
    "# Print rows with consistent categories only\n",
    "print(airlines[~cat_clean_rows])"
   ]
  },
  {
   "cell_type": "markdown",
   "metadata": {},
   "source": [
    "### Categorical variables\n",
    "\n",
    "Value consistency\n",
    "- Capitalization - str.lower() or str.upper()\n",
    "- white spaces - str.strip()\n",
    "- Collapsing data into categories\n",
    "  - qcut(x, q, labels=None, retbins=False, precision=3, duplicates='raise') -Quantile-based discretization function.\n",
    "  - cut(x, bins, right=True, labels=None, retbins=False, precision=3, include_lowest=False, duplicates='raise', ordered=True) Bin values into discrete intervals. Use cut when you need to segment and sort data values into bins. This function is also useful for going from a continuous variable to a categorical variable. For example, cut could convert ages to groups of age ranges. Supports binning into an equal number of bins, or a pre-specified array of bins.\n",
    "  - **Map categories to fewer ones:** with replace(to_replace = None, Value = NoDefault.no_default ....) method\n",
    "  \n",
    "  **df.replace({0: 10, 1: 100}) - нули заменить на 10, 1 заменить на 100.**\n",
    "  "
   ]
  },
  {
   "cell_type": "code",
   "execution_count": null,
   "metadata": {},
   "outputs": [],
   "source": [
    "# Create ranges for categories\n",
    "label_ranges = [0, 60, 180, np.inf]\n",
    "label_names = ['short', 'medium', 'long']\n",
    "\n",
    "# Create wait_type column\n",
    "airlines['wait_type'] = pd.cut(airlines['wait_min'], bins = label_ranges, \n",
    "                                labels = label_names)\n",
    "\n",
    "# Create mappings and replace\n",
    "mappings = {'Monday':'weekday', 'Tuesday':'weekday', 'Wednesday': 'weekday', \n",
    "            'Thursday': 'weekday', 'Friday': 'weekday', \n",
    "            'Saturday': 'weekend', 'Sunday': 'weekend'}\n",
    "\n",
    "airlines['day_week'] = airlines['day'].replace(mappings)"
   ]
  },
  {
   "cell_type": "markdown",
   "metadata": {},
   "source": [
    "### Cleaning text data\n",
    "**Common text data problems**(inconsistency, fixed length violations, typos) Types - (names, phone numbers, emails, etc)\n",
    "useful methods:\n",
    "- str.contains - \n",
    "- any()\n",
    "\n",
    "Regular expressions \n"
   ]
  },
  {
   "cell_type": "code",
   "execution_count": null,
   "metadata": {},
   "outputs": [],
   "source": [
    "# Replace \"Dr.\" with empty string \"\"\n",
    "airlines['full_name'] = airlines['full_name'].str.replace(\"Dr.\",\"\")\n",
    "\n",
    "# Replace \"Mr.\" with empty string \"\"\n",
    "airlines['full_name'] = airlines['full_name'].str.replace(\"Mr.\",\"\")\n",
    "\n",
    "# Replace \"Miss\" with empty string \"\"\n",
    "airlines['full_name'] = airlines['full_name'].str.replace(\"Miss\",\"\")\n",
    "\n",
    "# Replace \"Ms.\" with empty string \"\"\n",
    "airlines['full_name'] = airlines['full_name'].str.replace(\"Ms.\",\"\")\n",
    "\n",
    "# Assert that full_name has no honorifics\n",
    "assert airlines['full_name'].str.contains('Ms.|Mr.|Miss|Dr.').any() == False"
   ]
  },
  {
   "cell_type": "code",
   "execution_count": null,
   "metadata": {},
   "outputs": [],
   "source": [
    "# Store length of each row in survey_response column\n",
    "resp_length = airlines['survey_response'].str.len()\n",
    "\n",
    "# Find rows in airlines where resp_length > 40\n",
    "airlines_survey = airlines[resp_length > 40]\n",
    "\n",
    "# Assert minimum survey_response length is > 40\n",
    "assert airlines_survey['survey_response'].str.len().min() > 40\n",
    "\n",
    "# Print new survey_response column\n",
    "print(airlines_survey['survey_response'])"
   ]
  }
 ],
 "metadata": {
  "kernelspec": {
   "display_name": "Python 3 (ipykernel)",
   "language": "python",
   "name": "python3"
  },
  "language_info": {
   "codemirror_mode": {
    "name": "ipython",
    "version": 3
   },
   "file_extension": ".py",
   "mimetype": "text/x-python",
   "name": "python",
   "nbconvert_exporter": "python",
   "pygments_lexer": "ipython3",
   "version": "3.8.10"
  },
  "toc": {
   "base_numbering": 1,
   "nav_menu": {},
   "number_sections": true,
   "sideBar": true,
   "skip_h1_title": false,
   "title_cell": "Table of Contents",
   "title_sidebar": "Contents",
   "toc_cell": false,
   "toc_position": {},
   "toc_section_display": true,
   "toc_window_display": false
  },
  "varInspector": {
   "cols": {
    "lenName": 16,
    "lenType": 16,
    "lenVar": 40
   },
   "kernels_config": {
    "python": {
     "delete_cmd_postfix": "",
     "delete_cmd_prefix": "del ",
     "library": "var_list.py",
     "varRefreshCmd": "print(var_dic_list())"
    },
    "r": {
     "delete_cmd_postfix": ") ",
     "delete_cmd_prefix": "rm(",
     "library": "var_list.r",
     "varRefreshCmd": "cat(var_dic_list()) "
    }
   },
   "types_to_exclude": [
    "module",
    "function",
    "builtin_function_or_method",
    "instance",
    "_Feature"
   ],
   "window_display": false
  }
 },
 "nbformat": 4,
 "nbformat_minor": 4
}
